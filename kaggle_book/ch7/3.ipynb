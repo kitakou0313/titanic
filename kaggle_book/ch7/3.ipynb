{
 "cells": [
  {
   "cell_type": "code",
   "execution_count": 12,
   "metadata": {},
   "outputs": [],
   "source": [
    "import numpy as np\n",
    "import pandas as pd\n",
    "rand = np.random.RandomState(71)"
   ]
  },
  {
   "cell_type": "code",
   "execution_count": 13,
   "metadata": {},
   "outputs": [],
   "source": [
    "train_x = pd.DataFrame(rand.uniform(0.0, 1.0, (10000, 2)), columns=[\"model1\", \"model2\"])\n",
    "adv_train = pd.Series(rand.uniform(0.0, 1.0, 10000))\n",
    "w = np.array([0.3, 0.7]).reshape(1, -1)"
   ]
  },
  {
   "cell_type": "code",
   "execution_count": 14,
   "metadata": {},
   "outputs": [],
   "source": [
    "train_y = pd.Series((train_x.values * w).sum(axis=1) > 0.5)"
   ]
  },
  {
   "cell_type": "markdown",
   "metadata": {},
   "source": [
    "### adversarial stochastic blending\n",
    "- モデルの予測値を加重平均する和の重みの値をAdversarial validationで求める\n",
    "- adv_train...学習データのテストデータらしさを確率で表した値"
   ]
  },
  {
   "cell_type": "code",
   "execution_count": 15,
   "metadata": {},
   "outputs": [],
   "source": [
    "from scipy.optimize import minimize\n",
    "from sklearn.metrics import roc_auc_score\n",
    "\n",
    "# サンプリング回数\n",
    "n_sampling = 50\n",
    "# サンプリングで学習データから取り出す割合\n",
    "frac_sampling = 0.5"
   ]
  },
  {
   "cell_type": "code",
   "execution_count": 16,
   "metadata": {},
   "outputs": [],
   "source": [
    "def score(x, data_x, data_y):\n",
    "\n",
    "    y_prob = data_x[\"model1\"] * x + data_x[\"model2\"]*(1-x)\n",
    "    return -roc_auc_score(data_y, y_prob)"
   ]
  },
  {
   "cell_type": "code",
   "execution_count": 18,
   "metadata": {},
   "outputs": [],
   "source": [
    "results = []\n",
    "for i in range(n_sampling):\n",
    "\n",
    "    seed = i\n",
    "    idx = pd.Series(\n",
    "        np.arange(len(train_y))\n",
    "    ).sample(frac=frac_sampling,replace=False, random_state=seed, weights=adv_train)\n",
    "\n",
    "    x_sample = train_x.iloc[idx]\n",
    "    y_sample = train_y.iloc[idx]\n",
    "\n",
    "    init_x = np.array(0.5)\n",
    "\n",
    "    constraints = (\n",
    "        {'type': 'ineq', 'fun': lambda x: x},\n",
    "        {'type': 'ineq', 'fun': lambda x: 1.0 - x},\n",
    "    )\n",
    "\n",
    "    result = minimize(\n",
    "        score, x0=init_x, args=(x_sample, y_sample),\n",
    "        constraints=constraints,\n",
    "        method=\"COBYLA\"\n",
    "    )\n",
    "    results.append((result.x, 1.0-result.x))\n",
    "\n",
    "results = np.array(results)\n",
    "w_model1, w_model2 = results.mean(axis=0)"
   ]
  },
  {
   "cell_type": "code",
   "execution_count": null,
   "metadata": {},
   "outputs": [],
   "source": []
  }
 ],
 "metadata": {
  "interpreter": {
   "hash": "d4d1e4263499bec80672ea0156c357c1ee493ec2b1c70f0acce89fc37c4a6abe"
  },
  "kernelspec": {
   "display_name": "Python 3.9.7 64-bit ('base': conda)",
   "language": "python",
   "name": "python3"
  },
  "language_info": {
   "codemirror_mode": {
    "name": "ipython",
    "version": 3
   },
   "file_extension": ".py",
   "mimetype": "text/x-python",
   "name": "python",
   "nbconvert_exporter": "python",
   "pygments_lexer": "ipython3",
   "version": "3.9.7"
  },
  "orig_nbformat": 4
 },
 "nbformat": 4,
 "nbformat_minor": 2
}
