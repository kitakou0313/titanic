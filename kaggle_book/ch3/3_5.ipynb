{
 "cells": [
  {
   "cell_type": "code",
   "execution_count": 1,
   "metadata": {},
   "outputs": [],
   "source": [
    "import pandas as pd\n",
    "import numpy as np"
   ]
  },
  {
   "cell_type": "code",
   "execution_count": 2,
   "metadata": {},
   "outputs": [],
   "source": [
    "train = pd.read_csv(\"../data/3_5/train_preprocessed_onehot.csv\")\n",
    "train_x = train.drop([\"target\"], axis=1)\n",
    "train_y = train[\"target\"]\n",
    "\n",
    "test_x = pd.read_csv(\"../data/3_5/test_preprocessed_onehot.csv\")\n",
    "\n",
    "train_x_saved = train_x.copy()\n",
    "test_x_saved = test_x.copy()"
   ]
  },
  {
   "cell_type": "code",
   "execution_count": 3,
   "metadata": {},
   "outputs": [],
   "source": [
    "from sklearn.preprocessing import StandardScaler, MinMaxScaler\n",
    "\n",
    "# 標準化を行った学習データとテストデータを返す関数\n",
    "def load_standarized_data():\n",
    "    train_x, test_x = train_x_saved.copy(), test_x_saved.copy()\n",
    "\n",
    "    scaler = StandardScaler()\n",
    "    scaler.fit(train_x)\n",
    "    train_x = scaler.transform(train_x)\n",
    "    test_x = scaler.transform(test_x)\n",
    "    return pd.DataFrame(train_x), pd.DataFrame(test_x)\n",
    "\n",
    "\n",
    "# MinMaxスケーリングを行った学習データとテストデータを返す関数\n",
    "def load_minmax_scaled_data():\n",
    "    train_x, test_x = train_x_saved.copy(), test_x_saved.copy()\n",
    "\n",
    "    # Min-Max Scalingを行う\n",
    "    scaler = MinMaxScaler()\n",
    "    scaler.fit(pd.concat([train_x, test_x], axis=0))\n",
    "    train_x = scaler.transform(train_x)\n",
    "    test_x = scaler.transform(test_x)\n",
    "\n",
    "    return pd.DataFrame(train_x), pd.DataFrame(test_x)"
   ]
  },
  {
   "cell_type": "code",
   "execution_count": 4,
   "metadata": {},
   "outputs": [
    {
     "data": {
      "text/html": [
       "<div>\n",
       "<style scoped>\n",
       "    .dataframe tbody tr th:only-of-type {\n",
       "        vertical-align: middle;\n",
       "    }\n",
       "\n",
       "    .dataframe tbody tr th {\n",
       "        vertical-align: top;\n",
       "    }\n",
       "\n",
       "    .dataframe thead th {\n",
       "        text-align: right;\n",
       "    }\n",
       "</style>\n",
       "<table border=\"1\" class=\"dataframe\">\n",
       "  <thead>\n",
       "    <tr style=\"text-align: right;\">\n",
       "      <th></th>\n",
       "      <th>age</th>\n",
       "      <th>sex</th>\n",
       "      <th>height</th>\n",
       "      <th>weight</th>\n",
       "      <th>product_0</th>\n",
       "      <th>product_1</th>\n",
       "      <th>product_2</th>\n",
       "      <th>product_3</th>\n",
       "      <th>product_4</th>\n",
       "      <th>product_5</th>\n",
       "      <th>...</th>\n",
       "      <th>medical_keyword_8</th>\n",
       "      <th>medical_keyword_9</th>\n",
       "      <th>medical_keyword_10</th>\n",
       "      <th>year</th>\n",
       "      <th>month</th>\n",
       "      <th>day</th>\n",
       "      <th>yearmonth</th>\n",
       "      <th>medical_info_c1_nan</th>\n",
       "      <th>medical_info_c2_nan</th>\n",
       "      <th>target</th>\n",
       "    </tr>\n",
       "  </thead>\n",
       "  <tbody>\n",
       "    <tr>\n",
       "      <th>0</th>\n",
       "      <td>50</td>\n",
       "      <td>1</td>\n",
       "      <td>166.445608</td>\n",
       "      <td>65.016732</td>\n",
       "      <td>0</td>\n",
       "      <td>0</td>\n",
       "      <td>0</td>\n",
       "      <td>0</td>\n",
       "      <td>0</td>\n",
       "      <td>0</td>\n",
       "      <td>...</td>\n",
       "      <td>1</td>\n",
       "      <td>0</td>\n",
       "      <td>0</td>\n",
       "      <td>2015</td>\n",
       "      <td>2</td>\n",
       "      <td>3</td>\n",
       "      <td>24182</td>\n",
       "      <td>False</td>\n",
       "      <td>True</td>\n",
       "      <td>0</td>\n",
       "    </tr>\n",
       "    <tr>\n",
       "      <th>1</th>\n",
       "      <td>68</td>\n",
       "      <td>0</td>\n",
       "      <td>164.334615</td>\n",
       "      <td>56.544217</td>\n",
       "      <td>1</td>\n",
       "      <td>0</td>\n",
       "      <td>0</td>\n",
       "      <td>0</td>\n",
       "      <td>0</td>\n",
       "      <td>0</td>\n",
       "      <td>...</td>\n",
       "      <td>1</td>\n",
       "      <td>0</td>\n",
       "      <td>0</td>\n",
       "      <td>2015</td>\n",
       "      <td>5</td>\n",
       "      <td>9</td>\n",
       "      <td>24185</td>\n",
       "      <td>True</td>\n",
       "      <td>True</td>\n",
       "      <td>0</td>\n",
       "    </tr>\n",
       "    <tr>\n",
       "      <th>2</th>\n",
       "      <td>77</td>\n",
       "      <td>1</td>\n",
       "      <td>167.462917</td>\n",
       "      <td>54.242267</td>\n",
       "      <td>0</td>\n",
       "      <td>0</td>\n",
       "      <td>1</td>\n",
       "      <td>0</td>\n",
       "      <td>0</td>\n",
       "      <td>0</td>\n",
       "      <td>...</td>\n",
       "      <td>1</td>\n",
       "      <td>0</td>\n",
       "      <td>0</td>\n",
       "      <td>2016</td>\n",
       "      <td>2</td>\n",
       "      <td>13</td>\n",
       "      <td>24194</td>\n",
       "      <td>False</td>\n",
       "      <td>True</td>\n",
       "      <td>1</td>\n",
       "    </tr>\n",
       "    <tr>\n",
       "      <th>3</th>\n",
       "      <td>17</td>\n",
       "      <td>1</td>\n",
       "      <td>177.097725</td>\n",
       "      <td>71.147762</td>\n",
       "      <td>0</td>\n",
       "      <td>0</td>\n",
       "      <td>0</td>\n",
       "      <td>1</td>\n",
       "      <td>0</td>\n",
       "      <td>0</td>\n",
       "      <td>...</td>\n",
       "      <td>1</td>\n",
       "      <td>0</td>\n",
       "      <td>0</td>\n",
       "      <td>2015</td>\n",
       "      <td>7</td>\n",
       "      <td>6</td>\n",
       "      <td>24187</td>\n",
       "      <td>False</td>\n",
       "      <td>False</td>\n",
       "      <td>0</td>\n",
       "    </tr>\n",
       "    <tr>\n",
       "      <th>4</th>\n",
       "      <td>62</td>\n",
       "      <td>0</td>\n",
       "      <td>158.165788</td>\n",
       "      <td>65.240697</td>\n",
       "      <td>0</td>\n",
       "      <td>1</td>\n",
       "      <td>0</td>\n",
       "      <td>0</td>\n",
       "      <td>0</td>\n",
       "      <td>0</td>\n",
       "      <td>...</td>\n",
       "      <td>1</td>\n",
       "      <td>1</td>\n",
       "      <td>0</td>\n",
       "      <td>2016</td>\n",
       "      <td>9</td>\n",
       "      <td>17</td>\n",
       "      <td>24201</td>\n",
       "      <td>False</td>\n",
       "      <td>True</td>\n",
       "      <td>1</td>\n",
       "    </tr>\n",
       "    <tr>\n",
       "      <th>...</th>\n",
       "      <td>...</td>\n",
       "      <td>...</td>\n",
       "      <td>...</td>\n",
       "      <td>...</td>\n",
       "      <td>...</td>\n",
       "      <td>...</td>\n",
       "      <td>...</td>\n",
       "      <td>...</td>\n",
       "      <td>...</td>\n",
       "      <td>...</td>\n",
       "      <td>...</td>\n",
       "      <td>...</td>\n",
       "      <td>...</td>\n",
       "      <td>...</td>\n",
       "      <td>...</td>\n",
       "      <td>...</td>\n",
       "      <td>...</td>\n",
       "      <td>...</td>\n",
       "      <td>...</td>\n",
       "      <td>...</td>\n",
       "      <td>...</td>\n",
       "    </tr>\n",
       "    <tr>\n",
       "      <th>9995</th>\n",
       "      <td>61</td>\n",
       "      <td>1</td>\n",
       "      <td>182.729800</td>\n",
       "      <td>73.393777</td>\n",
       "      <td>0</td>\n",
       "      <td>1</td>\n",
       "      <td>0</td>\n",
       "      <td>0</td>\n",
       "      <td>0</td>\n",
       "      <td>0</td>\n",
       "      <td>...</td>\n",
       "      <td>1</td>\n",
       "      <td>1</td>\n",
       "      <td>0</td>\n",
       "      <td>2015</td>\n",
       "      <td>10</td>\n",
       "      <td>21</td>\n",
       "      <td>24190</td>\n",
       "      <td>False</td>\n",
       "      <td>True</td>\n",
       "      <td>0</td>\n",
       "    </tr>\n",
       "    <tr>\n",
       "      <th>9996</th>\n",
       "      <td>33</td>\n",
       "      <td>0</td>\n",
       "      <td>167.701136</td>\n",
       "      <td>75.006529</td>\n",
       "      <td>0</td>\n",
       "      <td>0</td>\n",
       "      <td>0</td>\n",
       "      <td>0</td>\n",
       "      <td>0</td>\n",
       "      <td>0</td>\n",
       "      <td>...</td>\n",
       "      <td>1</td>\n",
       "      <td>1</td>\n",
       "      <td>0</td>\n",
       "      <td>2015</td>\n",
       "      <td>5</td>\n",
       "      <td>28</td>\n",
       "      <td>24185</td>\n",
       "      <td>False</td>\n",
       "      <td>True</td>\n",
       "      <td>0</td>\n",
       "    </tr>\n",
       "    <tr>\n",
       "      <th>9997</th>\n",
       "      <td>44</td>\n",
       "      <td>0</td>\n",
       "      <td>145.609998</td>\n",
       "      <td>47.739397</td>\n",
       "      <td>0</td>\n",
       "      <td>0</td>\n",
       "      <td>0</td>\n",
       "      <td>0</td>\n",
       "      <td>0</td>\n",
       "      <td>0</td>\n",
       "      <td>...</td>\n",
       "      <td>1</td>\n",
       "      <td>0</td>\n",
       "      <td>1</td>\n",
       "      <td>2016</td>\n",
       "      <td>2</td>\n",
       "      <td>29</td>\n",
       "      <td>24194</td>\n",
       "      <td>True</td>\n",
       "      <td>True</td>\n",
       "      <td>0</td>\n",
       "    </tr>\n",
       "    <tr>\n",
       "      <th>9998</th>\n",
       "      <td>34</td>\n",
       "      <td>0</td>\n",
       "      <td>165.796017</td>\n",
       "      <td>57.567695</td>\n",
       "      <td>0</td>\n",
       "      <td>0</td>\n",
       "      <td>0</td>\n",
       "      <td>0</td>\n",
       "      <td>0</td>\n",
       "      <td>0</td>\n",
       "      <td>...</td>\n",
       "      <td>1</td>\n",
       "      <td>1</td>\n",
       "      <td>0</td>\n",
       "      <td>2016</td>\n",
       "      <td>2</td>\n",
       "      <td>27</td>\n",
       "      <td>24194</td>\n",
       "      <td>False</td>\n",
       "      <td>True</td>\n",
       "      <td>0</td>\n",
       "    </tr>\n",
       "    <tr>\n",
       "      <th>9999</th>\n",
       "      <td>31</td>\n",
       "      <td>1</td>\n",
       "      <td>180.301762</td>\n",
       "      <td>71.425135</td>\n",
       "      <td>0</td>\n",
       "      <td>0</td>\n",
       "      <td>0</td>\n",
       "      <td>0</td>\n",
       "      <td>1</td>\n",
       "      <td>0</td>\n",
       "      <td>...</td>\n",
       "      <td>1</td>\n",
       "      <td>0</td>\n",
       "      <td>0</td>\n",
       "      <td>2015</td>\n",
       "      <td>7</td>\n",
       "      <td>1</td>\n",
       "      <td>24187</td>\n",
       "      <td>False</td>\n",
       "      <td>False</td>\n",
       "      <td>0</td>\n",
       "    </tr>\n",
       "  </tbody>\n",
       "</table>\n",
       "<p>10000 rows × 60 columns</p>\n",
       "</div>"
      ],
      "text/plain": [
       "      age  sex      height     weight  product_0  product_1  product_2  \\\n",
       "0      50    1  166.445608  65.016732          0          0          0   \n",
       "1      68    0  164.334615  56.544217          1          0          0   \n",
       "2      77    1  167.462917  54.242267          0          0          1   \n",
       "3      17    1  177.097725  71.147762          0          0          0   \n",
       "4      62    0  158.165788  65.240697          0          1          0   \n",
       "...   ...  ...         ...        ...        ...        ...        ...   \n",
       "9995   61    1  182.729800  73.393777          0          1          0   \n",
       "9996   33    0  167.701136  75.006529          0          0          0   \n",
       "9997   44    0  145.609998  47.739397          0          0          0   \n",
       "9998   34    0  165.796017  57.567695          0          0          0   \n",
       "9999   31    1  180.301762  71.425135          0          0          0   \n",
       "\n",
       "      product_3  product_4  product_5  ...  medical_keyword_8  \\\n",
       "0             0          0          0  ...                  1   \n",
       "1             0          0          0  ...                  1   \n",
       "2             0          0          0  ...                  1   \n",
       "3             1          0          0  ...                  1   \n",
       "4             0          0          0  ...                  1   \n",
       "...         ...        ...        ...  ...                ...   \n",
       "9995          0          0          0  ...                  1   \n",
       "9996          0          0          0  ...                  1   \n",
       "9997          0          0          0  ...                  1   \n",
       "9998          0          0          0  ...                  1   \n",
       "9999          0          1          0  ...                  1   \n",
       "\n",
       "      medical_keyword_9  medical_keyword_10  year  month  day  yearmonth  \\\n",
       "0                     0                   0  2015      2    3      24182   \n",
       "1                     0                   0  2015      5    9      24185   \n",
       "2                     0                   0  2016      2   13      24194   \n",
       "3                     0                   0  2015      7    6      24187   \n",
       "4                     1                   0  2016      9   17      24201   \n",
       "...                 ...                 ...   ...    ...  ...        ...   \n",
       "9995                  1                   0  2015     10   21      24190   \n",
       "9996                  1                   0  2015      5   28      24185   \n",
       "9997                  0                   1  2016      2   29      24194   \n",
       "9998                  1                   0  2016      2   27      24194   \n",
       "9999                  0                   0  2015      7    1      24187   \n",
       "\n",
       "      medical_info_c1_nan  medical_info_c2_nan  target  \n",
       "0                   False                 True       0  \n",
       "1                    True                 True       0  \n",
       "2                   False                 True       1  \n",
       "3                   False                False       0  \n",
       "4                   False                 True       1  \n",
       "...                   ...                  ...     ...  \n",
       "9995                False                 True       0  \n",
       "9996                False                 True       0  \n",
       "9997                 True                 True       0  \n",
       "9998                False                 True       0  \n",
       "9999                False                False       0  \n",
       "\n",
       "[10000 rows x 60 columns]"
      ]
     },
     "execution_count": 4,
     "metadata": {},
     "output_type": "execute_result"
    }
   ],
   "source": [
    "train"
   ]
  },
  {
   "cell_type": "markdown",
   "metadata": {},
   "source": [
    "## 次元削減手法"
   ]
  },
  {
   "cell_type": "markdown",
   "metadata": {},
   "source": [
    "### PCA\n",
    "- 多次元データに対する次元削減の最も代表的な手法\n",
    "- 多次元データを分散の大きい方向から順に軸を取り直す手法\n",
    "- 変数間の従属性（共分散が大きい）が大きい場合、より少数の成分で元のデータを表現できる\n",
    "- 各特徴量が正規分布に従っている状態を仮定している\n",
    "    - 正規分布から外れた分布から生成された特徴量では不適切\n",
    "- SVD（特異値分解）とほぼ同じ意味"
   ]
  },
  {
   "cell_type": "code",
   "execution_count": 5,
   "metadata": {},
   "outputs": [],
   "source": [
    "from sklearn.decomposition import PCA"
   ]
  },
  {
   "cell_type": "code",
   "execution_count": 6,
   "metadata": {},
   "outputs": [],
   "source": [
    "train_x, test_x = load_standarized_data()"
   ]
  },
  {
   "cell_type": "code",
   "execution_count": 7,
   "metadata": {},
   "outputs": [],
   "source": [
    "pca = PCA(n_components=5)\n",
    "pca.fit(train_x)\n",
    "\n",
    "train_x = pca.transform(train_x)\n",
    "test_x = pca.transform(test_x)"
   ]
  },
  {
   "cell_type": "code",
   "execution_count": 8,
   "metadata": {},
   "outputs": [
    {
     "data": {
      "text/plain": [
       "array([[ 2.02725331, -0.39459574, -1.06898039,  1.35778984,  1.72837079],\n",
       "       [ 0.80265048, -1.36867841, -1.05923169,  1.71558985, -1.20539265],\n",
       "       [-0.12013858,  0.1639616 , -1.09898592,  0.72494289,  0.58804167],\n",
       "       ...,\n",
       "       [-1.82280688, -1.95191103,  2.01903761,  1.76833332, -0.39522184],\n",
       "       [-0.778437  , -0.60638592,  1.77097016, -1.08687611, -0.31822625],\n",
       "       [ 2.14187249,  0.9813354 ,  0.59842047, -1.11242361, -0.38350612]])"
      ]
     },
     "execution_count": 8,
     "metadata": {},
     "output_type": "execute_result"
    }
   ],
   "source": [
    "train_x"
   ]
  },
  {
   "cell_type": "markdown",
   "metadata": {},
   "source": [
    "### TruncatedSVD\n",
    "- 特異値分解手法\n",
    "- 疎行列を扱えるという利点からTruncatedSVDの方が多用される傾向がある"
   ]
  },
  {
   "cell_type": "code",
   "execution_count": 9,
   "metadata": {},
   "outputs": [
    {
     "data": {
      "text/plain": [
       "array([[ 1.89075808,  0.56417433, -1.13840979,  1.45068067, -1.28003859],\n",
       "       [ 0.6794261 ,  1.62337297, -0.97901713,  1.76923266,  1.35777081],\n",
       "       [-0.11459337, -0.12142354, -0.93207289,  0.7748445 , -0.71874784],\n",
       "       ...,\n",
       "       [-1.91060851,  1.74590685,  1.90688932,  1.62966471,  0.1845628 ],\n",
       "       [-0.86128199,  0.49292258,  1.72364079, -1.13753171,  0.15273637],\n",
       "       [ 2.1747407 , -0.89991037,  0.49876797, -1.16032138,  1.21353394]])"
      ]
     },
     "execution_count": 9,
     "metadata": {},
     "output_type": "execute_result"
    }
   ],
   "source": [
    "# TruncatedSVD\n",
    "from sklearn.decomposition import TruncatedSVD\n",
    "\n",
    "train_x, test_x = load_standarized_data()\n",
    "\n",
    "svd = TruncatedSVD(n_components=5, random_state=71)\n",
    "svd.fit(train_x)\n",
    "\n",
    "train_x = svd.transform(train_x)\n",
    "test_x = svd.transform(test_x)\n",
    "\n",
    "train_x"
   ]
  },
  {
   "cell_type": "code",
   "execution_count": 10,
   "metadata": {},
   "outputs": [],
   "source": [
    "train_x, test_x = load_minmax_scaled_data()\n"
   ]
  },
  {
   "cell_type": "markdown",
   "metadata": {},
   "source": [
    "### NMF\n",
    "- "
   ]
  },
  {
   "cell_type": "code",
   "execution_count": 11,
   "metadata": {},
   "outputs": [
    {
     "data": {
      "text/plain": [
       "NMF(init='random', n_components=5, random_state=71)"
      ]
     },
     "execution_count": 11,
     "metadata": {},
     "output_type": "execute_result"
    }
   ],
   "source": [
    "from sklearn.decomposition import NMF\n",
    "\n",
    "model = NMF(n_components=5, init=\"random\", random_state=71)\n",
    "model.fit(train_x)"
   ]
  },
  {
   "cell_type": "code",
   "execution_count": 12,
   "metadata": {},
   "outputs": [],
   "source": [
    "train_x = model.transform(train_x)\n",
    "test_x = model.transform(test_x)"
   ]
  },
  {
   "cell_type": "code",
   "execution_count": 13,
   "metadata": {},
   "outputs": [
    {
     "data": {
      "text/plain": [
       "array([[0.82905647, 0.60530404, 0.        , 0.00124627, 0.59139177],\n",
       "       [0.        , 0.67276669, 0.37941642, 0.3038591 , 0.60274847],\n",
       "       [0.11793269, 0.        , 0.52273175, 0.00945966, 0.        ],\n",
       "       ...,\n",
       "       [0.72050236, 0.61173093, 0.01239992, 0.30010142, 0.47019949],\n",
       "       [0.78788243, 0.61327883, 0.02746983, 0.00512393, 0.00308494],\n",
       "       [0.02046893, 0.        , 0.50988083, 0.0107185 , 0.55966738]])"
      ]
     },
     "execution_count": 13,
     "metadata": {},
     "output_type": "execute_result"
    }
   ],
   "source": [
    "test_x"
   ]
  },
  {
   "cell_type": "code",
   "execution_count": 14,
   "metadata": {},
   "outputs": [
    {
     "data": {
      "text/plain": [
       "array([[0.75986403, 0.        , 0.02349616, 0.        , 0.        ],\n",
       "       [0.71034016, 0.01535425, 0.        , 0.00825695, 0.02167209],\n",
       "       [0.66389753, 0.64093764, 0.14205363, 0.        , 0.44550723],\n",
       "       ...,\n",
       "       [0.67802549, 0.01105262, 0.        , 0.01086126, 0.50310889],\n",
       "       [0.        , 0.01051369, 0.4818196 , 0.30903171, 0.48223883],\n",
       "       [0.01433202, 0.62219057, 0.48536788, 0.        , 0.00637701]])"
      ]
     },
     "execution_count": 14,
     "metadata": {},
     "output_type": "execute_result"
    }
   ],
   "source": [
    "train_x"
   ]
  },
  {
   "cell_type": "markdown",
   "metadata": {},
   "source": [
    "### LatentDirichletAllocation"
   ]
  },
  {
   "cell_type": "code",
   "execution_count": 15,
   "metadata": {},
   "outputs": [],
   "source": [
    "train_x, test_x = load_minmax_scaled_data()"
   ]
  },
  {
   "cell_type": "code",
   "execution_count": 16,
   "metadata": {},
   "outputs": [],
   "source": [
    "from sklearn.decomposition import LatentDirichletAllocation"
   ]
  },
  {
   "cell_type": "code",
   "execution_count": 17,
   "metadata": {},
   "outputs": [
    {
     "data": {
      "text/plain": [
       "LatentDirichletAllocation(n_components=5, random_state=71)"
      ]
     },
     "execution_count": 17,
     "metadata": {},
     "output_type": "execute_result"
    }
   ],
   "source": [
    "model = LatentDirichletAllocation(n_components=5,random_state=71)\n",
    "model.fit(train_x)"
   ]
  },
  {
   "cell_type": "code",
   "execution_count": 18,
   "metadata": {},
   "outputs": [],
   "source": [
    "train_x = model.transform(train_x)\n",
    "test_x = model.transform(test_x)"
   ]
  },
  {
   "cell_type": "code",
   "execution_count": 19,
   "metadata": {},
   "outputs": [
    {
     "data": {
      "text/plain": [
       "array([[0.01574744, 0.0157792 , 0.93683928, 0.01593487, 0.01569921],\n",
       "       [0.33338023, 0.62220041, 0.01477796, 0.01484837, 0.01479303],\n",
       "       [0.68220031, 0.01120325, 0.01118684, 0.284196  , 0.01121359],\n",
       "       ...,\n",
       "       [0.3701719 , 0.01403994, 0.01406191, 0.5875934 , 0.01413285],\n",
       "       [0.01317215, 0.17923686, 0.46731043, 0.32705925, 0.01322131],\n",
       "       [0.01455362, 0.01459521, 0.43380725, 0.01464105, 0.52240287]])"
      ]
     },
     "execution_count": 19,
     "metadata": {},
     "output_type": "execute_result"
    }
   ],
   "source": [
    "train_x"
   ]
  },
  {
   "cell_type": "code",
   "execution_count": 20,
   "metadata": {},
   "outputs": [
    {
     "data": {
      "text/plain": [
       "array([[0.50195545, 0.01122961, 0.01126158, 0.01132943, 0.46422393],\n",
       "       [0.01263978, 0.01264373, 0.94924557, 0.01278383, 0.0126871 ],\n",
       "       [0.01406492, 0.94370447, 0.01407466, 0.01403559, 0.01412036],\n",
       "       ...,\n",
       "       [0.01225082, 0.01226618, 0.01225357, 0.95097413, 0.0122553 ],\n",
       "       [0.01327285, 0.01323871, 0.01326013, 0.42427396, 0.53595436],\n",
       "       [0.0129966 , 0.16036495, 0.01299578, 0.01302229, 0.80062039]])"
      ]
     },
     "execution_count": 20,
     "metadata": {},
     "output_type": "execute_result"
    }
   ],
   "source": [
    "test_x"
   ]
  },
  {
   "cell_type": "markdown",
   "metadata": {},
   "source": [
    "### LinearDiscriminantAnalysis"
   ]
  },
  {
   "cell_type": "code",
   "execution_count": 21,
   "metadata": {},
   "outputs": [],
   "source": [
    "train_x, test_x = load_standarized_data()"
   ]
  },
  {
   "cell_type": "code",
   "execution_count": 22,
   "metadata": {},
   "outputs": [],
   "source": [
    "from sklearn.discriminant_analysis import LinearDiscriminantAnalysis as LDA"
   ]
  },
  {
   "cell_type": "code",
   "execution_count": 23,
   "metadata": {},
   "outputs": [
    {
     "data": {
      "text/plain": [
       "LinearDiscriminantAnalysis(n_components=1)"
      ]
     },
     "execution_count": 23,
     "metadata": {},
     "output_type": "execute_result"
    }
   ],
   "source": [
    "lda = LDA(n_components=1)\n",
    "lda.fit(train_x,train_y)"
   ]
  },
  {
   "cell_type": "code",
   "execution_count": 24,
   "metadata": {},
   "outputs": [],
   "source": [
    "train_x = lda.transform(train_x)\n",
    "test_x = lda.transform(test_x)"
   ]
  },
  {
   "cell_type": "code",
   "execution_count": 25,
   "metadata": {},
   "outputs": [
    {
     "data": {
      "text/plain": [
       "array([[-0.23068727],\n",
       "       [-0.36472287],\n",
       "       [ 1.28408347],\n",
       "       ...,\n",
       "       [-0.85944936],\n",
       "       [-0.53029345],\n",
       "       [-0.46604975]])"
      ]
     },
     "execution_count": 25,
     "metadata": {},
     "output_type": "execute_result"
    }
   ],
   "source": [
    "train_x"
   ]
  },
  {
   "cell_type": "code",
   "execution_count": 26,
   "metadata": {},
   "outputs": [
    {
     "data": {
      "text/plain": [
       "array([[ 2.15722826],\n",
       "       [-0.72909448],\n",
       "       [-0.56988393],\n",
       "       ...,\n",
       "       [ 0.54299485],\n",
       "       [-1.12300281],\n",
       "       [ 3.5641705 ]])"
      ]
     },
     "execution_count": 26,
     "metadata": {},
     "output_type": "execute_result"
    }
   ],
   "source": [
    "test_x"
   ]
  },
  {
   "cell_type": "code",
   "execution_count": 28,
   "metadata": {},
   "outputs": [],
   "source": [
    "# t-sne\n",
    "train_x,test_x = load_standarized_data()\n",
    "import bhtsne"
   ]
  },
  {
   "cell_type": "code",
   "execution_count": 29,
   "metadata": {},
   "outputs": [
    {
     "name": "stdout",
     "output_type": "stream",
     "text": [
      "Using random seed: 71\n",
      "Using no_dims = 2, perplexity = 30.000000, and theta = 0.500000\n",
      "Computing input similarities...\n",
      "Building tree...\n",
      " - point 0 of 20000\n",
      " - point 10000 of 20000\n",
      "Input similarities computed in 31.13 seconds (sparsity = 0.006445)!\n",
      "Learning embedding...\n",
      "Iteration 50: error is 105.472853 (50 iterations in 13.65 seconds)\n",
      "Iteration 100: error is 102.253786 (50 iterations in 15.06 seconds)\n",
      "Iteration 150: error is 84.332794 (50 iterations in 14.88 seconds)\n",
      "Iteration 200: error is 80.191661 (50 iterations in 15.10 seconds)\n",
      "Iteration 250: error is 4.049825 (50 iterations in 15.26 seconds)\n",
      "Iteration 300: error is 3.412777 (50 iterations in 15.38 seconds)\n",
      "Iteration 350: error is 3.057512 (50 iterations in 16.08 seconds)\n",
      "Iteration 400: error is 2.801079 (50 iterations in 16.26 seconds)\n",
      "Iteration 450: error is 2.608678 (50 iterations in 16.31 seconds)\n",
      "Iteration 500: error is 2.463655 (50 iterations in 16.18 seconds)\n",
      "Iteration 550: error is 2.348479 (50 iterations in 16.12 seconds)\n",
      "Iteration 600: error is 2.255649 (50 iterations in 15.95 seconds)\n",
      "Iteration 650: error is 2.178960 (50 iterations in 15.95 seconds)\n",
      "Iteration 700: error is 2.115450 (50 iterations in 19.97 seconds)\n",
      "Iteration 750: error is 2.061972 (50 iterations in 19.52 seconds)\n",
      "Iteration 800: error is 2.016373 (50 iterations in 16.83 seconds)\n",
      "Iteration 850: error is 1.976548 (50 iterations in 15.24 seconds)\n",
      "Iteration 900: error is 1.942269 (50 iterations in 14.17 seconds)\n",
      "Iteration 950: error is 1.912726 (50 iterations in 14.16 seconds)\n",
      "Iteration 999: error is 1.887317 (50 iterations in 13.89 seconds)\n",
      "Fitting performed in 315.98 seconds.\n"
     ]
    }
   ],
   "source": [
    "data = pd.concat([train_x, test_x])\n",
    "embedded = bhtsne.tsne(data.astype(np.float64), dimensions=2, rand_seed=71)"
   ]
  },
  {
   "cell_type": "code",
   "execution_count": 30,
   "metadata": {},
   "outputs": [
    {
     "data": {
      "text/plain": [
       "array([[ 11.75863725, -10.40675   ],\n",
       "       [-38.20530917,  -0.6750682 ],\n",
       "       [ 33.60175218,   5.97733285],\n",
       "       ...,\n",
       "       [  1.69003871, -26.50351329],\n",
       "       [ 10.12737455, -32.31341371],\n",
       "       [  2.15726501,  -0.78303724]])"
      ]
     },
     "execution_count": 30,
     "metadata": {},
     "output_type": "execute_result"
    }
   ],
   "source": [
    "embedded"
   ]
  },
  {
   "cell_type": "code",
   "execution_count": 31,
   "metadata": {},
   "outputs": [],
   "source": [
    "# クラスタリング\n",
    "train_x,test_x = load_standarized_data()"
   ]
  },
  {
   "cell_type": "code",
   "execution_count": 32,
   "metadata": {},
   "outputs": [],
   "source": [
    "from sklearn.cluster import MiniBatchKMeans"
   ]
  },
  {
   "cell_type": "code",
   "execution_count": 33,
   "metadata": {},
   "outputs": [],
   "source": [
    "kmeans = MiniBatchKMeans(n_clusters=10, random_state=71)"
   ]
  },
  {
   "cell_type": "code",
   "execution_count": 34,
   "metadata": {},
   "outputs": [
    {
     "data": {
      "text/plain": [
       "MiniBatchKMeans(n_clusters=10, random_state=71)"
      ]
     },
     "execution_count": 34,
     "metadata": {},
     "output_type": "execute_result"
    }
   ],
   "source": [
    "kmeans.fit(train_x)"
   ]
  },
  {
   "cell_type": "code",
   "execution_count": 35,
   "metadata": {},
   "outputs": [],
   "source": [
    "train_cluster = kmeans.predict(train_x)\n",
    "test_cluster = kmeans.predict(test_x)"
   ]
  },
  {
   "cell_type": "code",
   "execution_count": 36,
   "metadata": {},
   "outputs": [],
   "source": [
    "train_distances = kmeans.transform(train_x)\n",
    "test_distances = kmeans.transform(test_x)"
   ]
  },
  {
   "cell_type": "code",
   "execution_count": 39,
   "metadata": {},
   "outputs": [
    {
     "data": {
      "text/plain": [
       "array([[ 7.22375489,  6.60258845,  8.34267445, ...,  8.31059596,\n",
       "         7.71554795,  8.35024336],\n",
       "       [ 7.28860904,  8.01608603,  8.48136581, ...,  8.5662797 ,\n",
       "         8.01397808,  8.502871  ],\n",
       "       [ 7.60952004,  8.19247266,  8.81986473, ...,  8.75887413,\n",
       "         8.21306144,  8.69430836],\n",
       "       ...,\n",
       "       [ 8.90352655,  8.04684447,  9.54018745, ...,  9.53678396,\n",
       "         9.013434  ,  9.57640555],\n",
       "       [ 8.09338653,  8.23533606,  8.6634961 , ...,  8.60150903,\n",
       "         8.14500752,  8.62718583],\n",
       "       [ 9.81036997,  9.2594205 , 10.51980413, ..., 10.5641513 ,\n",
       "        10.13197798, 10.53600106]])"
      ]
     },
     "execution_count": 39,
     "metadata": {},
     "output_type": "execute_result"
    }
   ],
   "source": [
    "train_distances"
   ]
  },
  {
   "cell_type": "code",
   "execution_count": null,
   "metadata": {},
   "outputs": [],
   "source": []
  },
  {
   "cell_type": "code",
   "execution_count": null,
   "metadata": {},
   "outputs": [],
   "source": []
  }
 ],
 "metadata": {
  "interpreter": {
   "hash": "d4d1e4263499bec80672ea0156c357c1ee493ec2b1c70f0acce89fc37c4a6abe"
  },
  "kernelspec": {
   "display_name": "Python 3.9.7 64-bit ('base': conda)",
   "language": "python",
   "name": "python3"
  },
  "language_info": {
   "codemirror_mode": {
    "name": "ipython",
    "version": 3
   },
   "file_extension": ".py",
   "mimetype": "text/x-python",
   "name": "python",
   "nbconvert_exporter": "python",
   "pygments_lexer": "ipython3",
   "version": "3.9.7"
  },
  "orig_nbformat": 4
 },
 "nbformat": 4,
 "nbformat_minor": 2
}
