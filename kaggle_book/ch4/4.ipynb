{
 "cells": [
  {
   "cell_type": "code",
   "execution_count": 31,
   "metadata": {},
   "outputs": [],
   "source": [
    "import numpy as np\n",
    "import pandas as pd"
   ]
  },
  {
   "cell_type": "code",
   "execution_count": 32,
   "metadata": {},
   "outputs": [],
   "source": [
    "train = pd.read_csv(\"../data/3_5/train_preprocessed_onehot.csv\")\n",
    "train_x = train.drop([\"target\"], axis=1)\n",
    "train_y = train[\"target\"]\n",
    "\n",
    "test_x = pd.read_csv(\"../data/3_5/test_preprocessed_onehot.csv\")\n",
    "test_x = test_x.dropna(how=\"any\")"
   ]
  },
  {
   "cell_type": "code",
   "execution_count": 33,
   "metadata": {},
   "outputs": [
    {
     "data": {
      "text/plain": [
       "array([2, 1, 0])"
      ]
     },
     "execution_count": 33,
     "metadata": {},
     "output_type": "execute_result"
    }
   ],
   "source": [
    "# argsortによるindexのソート\n",
    "ary = np.array([10,20,30,0])\n",
    "idx = ary.argsort()\n",
    "idx[::-1][:3]"
   ]
  },
  {
   "cell_type": "code",
   "execution_count": 34,
   "metadata": {},
   "outputs": [],
   "source": [
    "# 相関係数\n",
    "import scipy.stats as st\n",
    "corrs = []\n",
    "\n",
    "for c in train_x.columns:\n",
    "    corr = np.corrcoef(train_x[c], train_y)[0,1]\n",
    "    corrs.append(corr)\n",
    "\n",
    "corrs = np.array(corrs)"
   ]
  },
  {
   "cell_type": "code",
   "execution_count": 35,
   "metadata": {},
   "outputs": [
    {
     "data": {
      "text/plain": [
       "array([ 0.15170291, -0.03848035, -0.01537461, -0.01277672, -0.05745262,\n",
       "        0.01244317, -0.04818237, -0.00645934,  0.00929829, -0.0161238 ,\n",
       "       -0.01654847,  0.02064493, -0.02566237,  0.11706115,  0.06674623,\n",
       "        0.03241061,  0.22182331, -0.08996273,  0.04639233,  0.01106225,\n",
       "        0.01577078, -0.0086167 , -0.00781526, -0.00465227,  0.0169584 ,\n",
       "        0.01027572,  0.00180568, -0.01968441,  0.00918564,  0.0048    ,\n",
       "       -0.01249621, -0.0061446 , -0.01798412, -0.01033541,  0.00798182,\n",
       "        0.00611048,  0.01136556,  0.00770744, -0.00688464, -0.00883057,\n",
       "        0.00662131,  0.03929422,  0.00287572,  0.05258075,  0.1184609 ,\n",
       "        0.16723961,  0.18109642,  0.21368557,  0.02593691, -0.00323286,\n",
       "       -0.00410098,  0.00132831, -0.0082405 , -0.01214077,  0.00796594,\n",
       "        0.00970581, -0.00655618, -0.09447413,  0.00140585])"
      ]
     },
     "execution_count": 35,
     "metadata": {},
     "output_type": "execute_result"
    }
   ],
   "source": [
    "# スピアマンの順位相関係数\n",
    "corrs_sp = []\n",
    "\n",
    "for c in train_x.columns:\n",
    "    corr_sp = st.spearmanr(train_x[c], train_y).correlation\n",
    "    corrs_sp.append(corr_sp)\n",
    "\n",
    "np.array(corrs_sp)"
   ]
  },
  {
   "cell_type": "code",
   "execution_count": 36,
   "metadata": {},
   "outputs": [
    {
     "name": "stdout",
     "output_type": "stream",
     "text": [
      "medical_info_a1 0.21805214074801674\n",
      "medical_keyword_5 0.21368557020355805\n",
      "medical_keyword_4 0.18109642414513727\n",
      "medical_keyword_3 0.16723960583428804\n",
      "age 0.15155307608833493\n"
     ]
    }
   ],
   "source": [
    "idx = np.argsort(np.abs(corrs))[::-1]\n",
    "top_cols, top_importances = train_x.columns.values[idx][:5], corrs[idx][:5]\n",
    "\n",
    "for ind in range(len(top_cols)):\n",
    "    print(top_cols[ind], top_importances[ind])"
   ]
  },
  {
   "cell_type": "code",
   "execution_count": null,
   "metadata": {},
   "outputs": [],
   "source": []
  },
  {
   "cell_type": "code",
   "execution_count": null,
   "metadata": {},
   "outputs": [],
   "source": []
  }
 ],
 "metadata": {
  "interpreter": {
   "hash": "d4d1e4263499bec80672ea0156c357c1ee493ec2b1c70f0acce89fc37c4a6abe"
  },
  "kernelspec": {
   "display_name": "Python 3.9.7 64-bit ('base': conda)",
   "language": "python",
   "name": "python3"
  },
  "language_info": {
   "codemirror_mode": {
    "name": "ipython",
    "version": 3
   },
   "file_extension": ".py",
   "mimetype": "text/x-python",
   "name": "python",
   "nbconvert_exporter": "python",
   "pygments_lexer": "ipython3",
   "version": "3.9.7"
  },
  "orig_nbformat": 4
 },
 "nbformat": 4,
 "nbformat_minor": 2
}
