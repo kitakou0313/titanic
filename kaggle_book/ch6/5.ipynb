{
 "cells": [
  {
   "cell_type": "code",
   "execution_count": 23,
   "metadata": {},
   "outputs": [],
   "source": [
    "import numpy as np\n",
    "import pandas as pd"
   ]
  },
  {
   "cell_type": "code",
   "execution_count": 24,
   "metadata": {},
   "outputs": [],
   "source": [
    "train = pd.read_csv(\"../data/3_5/train_preprocessed_onehot.csv\")\n",
    "train_x = train.drop([\"target\"], axis=1)\n",
    "train_y = train[\"target\"]"
   ]
  },
  {
   "cell_type": "code",
   "execution_count": 25,
   "metadata": {},
   "outputs": [
    {
     "data": {
      "text/plain": [
       "age                    0\n",
       "sex                    0\n",
       "height                 0\n",
       "weight                 0\n",
       "product_0              0\n",
       "product_1              0\n",
       "product_2              0\n",
       "product_3              0\n",
       "product_4              0\n",
       "product_5              0\n",
       "product_6              0\n",
       "product_7              0\n",
       "product_8              0\n",
       "product_9              0\n",
       "product_10             0\n",
       "amount                 0\n",
       "medical_info_a1        0\n",
       "medical_info_a2        0\n",
       "medical_info_a3        0\n",
       "medical_info_b1        0\n",
       "medical_info_b2_0      0\n",
       "medical_info_b2_1      0\n",
       "medical_info_b2_2      0\n",
       "medical_info_b2_3      0\n",
       "medical_info_b3_0      0\n",
       "medical_info_b3_1      0\n",
       "medical_info_b3_2      0\n",
       "medical_info_b3_3      0\n",
       "medical_info_b3_4      0\n",
       "medical_info_b3_5      0\n",
       "medical_info_b3_6      0\n",
       "medical_info_b3_7      0\n",
       "medical_info_b3_8      0\n",
       "medical_info_b3_9      0\n",
       "medical_info_b3_10     0\n",
       "medical_info_b3_11     0\n",
       "medical_info_b3_12     0\n",
       "medical_info_b3_13     0\n",
       "medical_info_b3_14     0\n",
       "medical_info_b3_15     0\n",
       "medical_info_b3_16     0\n",
       "medical_info_c1        0\n",
       "medical_info_c2        0\n",
       "medical_keyword_1      0\n",
       "medical_keyword_2      0\n",
       "medical_keyword_3      0\n",
       "medical_keyword_4      0\n",
       "medical_keyword_5      0\n",
       "medical_keyword_6      0\n",
       "medical_keyword_7      0\n",
       "medical_keyword_8      0\n",
       "medical_keyword_9      0\n",
       "medical_keyword_10     0\n",
       "year                   0\n",
       "month                  0\n",
       "day                    0\n",
       "yearmonth              0\n",
       "medical_info_c1_nan    0\n",
       "medical_info_c2_nan    0\n",
       "target                 0\n",
       "dtype: int64"
      ]
     },
     "execution_count": 25,
     "metadata": {},
     "output_type": "execute_result"
    }
   ],
   "source": [
    "train.isnull().sum()"
   ]
  },
  {
   "cell_type": "code",
   "execution_count": 26,
   "metadata": {},
   "outputs": [],
   "source": [
    "from sklearn.ensemble import RandomForestClassifier"
   ]
  },
  {
   "cell_type": "code",
   "execution_count": 27,
   "metadata": {},
   "outputs": [],
   "source": [
    "# ランダムフォレストによる特徴量の重要度によるfiltering\n",
    "clf = RandomForestClassifier(n_estimators=10, random_state=71)\n",
    "clf.fit(train_x, train_y)\n",
    "fi = clf.feature_importances_"
   ]
  },
  {
   "cell_type": "code",
   "execution_count": 28,
   "metadata": {},
   "outputs": [
    {
     "name": "stdout",
     "output_type": "stream",
     "text": [
      "['medical_info_a1' 'weight' 'age' 'medical_info_a2' 'height'] [0.12604874 0.11164059 0.07741062 0.07132529 0.05367491]\n"
     ]
    }
   ],
   "source": [
    "idx = np.argsort(fi)[::-1]\n",
    "top_cols, top_importances = train_x.columns.values[idx][:5], fi[idx][:5]\n",
    "print(top_cols, top_importances)\n"
   ]
  },
  {
   "cell_type": "code",
   "execution_count": 29,
   "metadata": {},
   "outputs": [],
   "source": [
    "#GBDTによる特徴量の抽出\n",
    "train = pd.read_csv(\"../data/3_5/train_preprocessed_onehot.csv\")\n",
    "train_x = train.drop([\"target\"], axis=1)\n",
    "train_y = train[\"target\"]"
   ]
  },
  {
   "cell_type": "code",
   "execution_count": 30,
   "metadata": {},
   "outputs": [],
   "source": [
    "import lightgbm as lgb"
   ]
  },
  {
   "cell_type": "code",
   "execution_count": 34,
   "metadata": {},
   "outputs": [
    {
     "name": "stdout",
     "output_type": "stream",
     "text": [
      "[LightGBM] [Warning] Starting from the 2.1.2 version, default value for the \"boost_from_average\" parameter in \"binary\" objective is true.\n",
      "This may cause significantly different results comparing to the previous versions of LightGBM.\n",
      "Try to set boost_from_average=false, if your old models produce bad results\n"
     ]
    }
   ],
   "source": [
    "dtrain = lgb.Dataset(train_x, train_y)\n",
    "params = {'objective': 'binary', 'seed': 71, 'verbose': 0, 'metrics': 'binary_logloss'}\n",
    "num_round = 100\n",
    "model = lgb.train(params, dtrain, num_round)"
   ]
  },
  {
   "cell_type": "code",
   "execution_count": 36,
   "metadata": {},
   "outputs": [
    {
     "data": {
      "text/plain": [
       "(59,)"
      ]
     },
     "execution_count": 36,
     "metadata": {},
     "output_type": "execute_result"
    }
   ],
   "source": [
    "feature_importances = model.feature_importance(importance_type=\"gain\")\n",
    "feature_importances.shape"
   ]
  },
  {
   "cell_type": "code",
   "execution_count": 40,
   "metadata": {},
   "outputs": [
    {
     "data": {
      "text/plain": [
       "array([ 3, 16,  2,  0, 17, 47, 46, 45, 44, 13, 18, 15, 41, 57, 43, 14, 55,\n",
       "       56, 54,  1, 48, 19,  6, 11,  4, 42,  5, 28, 51, 50,  8, 49, 20, 36,\n",
       "       37,  9, 58, 30, 21, 25,  7, 31, 24, 52, 33, 22, 26, 35, 53, 38, 40,\n",
       "       32, 12, 39, 10, 34, 27, 23, 29])"
      ]
     },
     "execution_count": 40,
     "metadata": {},
     "output_type": "execute_result"
    }
   ],
   "source": [
    "idx = np.argsort(feature_importances)[::-1]\n",
    "idx"
   ]
  },
  {
   "cell_type": "code",
   "execution_count": 43,
   "metadata": {},
   "outputs": [
    {
     "name": "stdout",
     "output_type": "stream",
     "text": [
      "age 3674.8560948371887\n",
      "sex 181.55807065963745\n",
      "height 5072.287662267685\n",
      "weight 7154.031811237335\n",
      "product_0 115.29540944099426\n",
      "product_1 104.08421015739441\n",
      "product_2 125.95827913284302\n",
      "product_3 15.480069875717163\n",
      "product_4 39.17467975616455\n",
      "product_5 20.44120979309082\n",
      "product_6 0.0\n",
      "product_7 122.25100016593933\n",
      "product_8 3.2502899169921875\n",
      "product_9 919.7344784736633\n",
      "product_10 489.5579466819763\n",
      "amount 733.9884202480316\n",
      "medical_info_a1 6042.086482524872\n",
      "medical_info_a2 2810.9821116924286\n",
      "medical_info_a3 749.4432444572449\n",
      "medical_info_b1 141.40020060539246\n",
      "medical_info_b2_0 33.165729999542236\n",
      "medical_info_b2_1 16.038919687271118\n",
      "medical_info_b2_2 7.529910087585449\n",
      "medical_info_b2_3 0.0\n",
      "medical_info_b3_0 11.184039831161499\n",
      "medical_info_b3_1 15.600610256195068\n",
      "medical_info_b3_2 6.915869951248169\n",
      "medical_info_b3_3 0.0\n",
      "medical_info_b3_4 53.71452045440674\n",
      "medical_info_b3_5 0.0\n",
      "medical_info_b3_6 19.25257968902588\n",
      "medical_info_b3_7 14.573109865188599\n",
      "medical_info_b3_8 3.3856201171875\n",
      "medical_info_b3_9 7.612639904022217\n",
      "medical_info_b3_10 0.0\n",
      "medical_info_b3_11 6.541630029678345\n",
      "medical_info_b3_12 28.605870246887207\n",
      "medical_info_b3_13 27.17542028427124\n",
      "medical_info_b3_14 6.456290006637573\n",
      "medical_info_b3_15 0.0\n",
      "medical_info_b3_16 3.5834200382232666\n",
      "medical_info_c1 730.0198884010315\n",
      "medical_info_c2 113.04130983352661\n",
      "medical_keyword_1 552.9369814395905\n",
      "medical_keyword_2 1389.2523860931396\n",
      "medical_keyword_3 1770.0817058086395\n",
      "medical_keyword_4 2011.096188545227\n",
      "medical_keyword_5 2440.0767199993134\n",
      "medical_keyword_6 155.60048079490662\n",
      "medical_keyword_7 34.55466985702515\n",
      "medical_keyword_8 43.920510053634644\n",
      "medical_keyword_9 49.63574004173279\n",
      "medical_keyword_10 7.844969749450684\n",
      "year 6.486509799957275\n",
      "month 184.1408989429474\n",
      "day 273.9539999961853\n",
      "yearmonth 223.45661163330078\n",
      "medical_info_c1_nan 581.747790813446\n",
      "medical_info_c2_nan 19.329710245132446\n"
     ]
    }
   ],
   "source": [
    "for feature_idx in range(len(feature_importances)):\n",
    "    print(train_x.columns.values[feature_idx],feature_importances[feature_idx])"
   ]
  },
  {
   "cell_type": "code",
   "execution_count": null,
   "metadata": {},
   "outputs": [],
   "source": []
  }
 ],
 "metadata": {
  "interpreter": {
   "hash": "d4d1e4263499bec80672ea0156c357c1ee493ec2b1c70f0acce89fc37c4a6abe"
  },
  "kernelspec": {
   "display_name": "Python 3.9.7 64-bit ('base': conda)",
   "language": "python",
   "name": "python3"
  },
  "language_info": {
   "codemirror_mode": {
    "name": "ipython",
    "version": 3
   },
   "file_extension": ".py",
   "mimetype": "text/x-python",
   "name": "python",
   "nbconvert_exporter": "python",
   "pygments_lexer": "ipython3",
   "version": "3.9.7"
  },
  "orig_nbformat": 4
 },
 "nbformat": 4,
 "nbformat_minor": 2
}
