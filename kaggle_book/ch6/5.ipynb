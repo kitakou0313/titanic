{
 "cells": [
  {
   "cell_type": "code",
   "execution_count": 1,
   "metadata": {},
   "outputs": [],
   "source": [
    "import numpy as np\n",
    "import pandas as pd"
   ]
  },
  {
   "cell_type": "code",
   "execution_count": 2,
   "metadata": {},
   "outputs": [],
   "source": [
    "train = pd.read_csv(\"../data/3_5/train_preprocessed_onehot.csv\")\n",
    "train_x = train.drop([\"target\"], axis=1)\n",
    "train_y = train[\"target\"]"
   ]
  },
  {
   "cell_type": "code",
   "execution_count": 3,
   "metadata": {},
   "outputs": [
    {
     "data": {
      "text/plain": [
       "age                    0\n",
       "sex                    0\n",
       "height                 0\n",
       "weight                 0\n",
       "product_0              0\n",
       "product_1              0\n",
       "product_2              0\n",
       "product_3              0\n",
       "product_4              0\n",
       "product_5              0\n",
       "product_6              0\n",
       "product_7              0\n",
       "product_8              0\n",
       "product_9              0\n",
       "product_10             0\n",
       "amount                 0\n",
       "medical_info_a1        0\n",
       "medical_info_a2        0\n",
       "medical_info_a3        0\n",
       "medical_info_b1        0\n",
       "medical_info_b2_0      0\n",
       "medical_info_b2_1      0\n",
       "medical_info_b2_2      0\n",
       "medical_info_b2_3      0\n",
       "medical_info_b3_0      0\n",
       "medical_info_b3_1      0\n",
       "medical_info_b3_2      0\n",
       "medical_info_b3_3      0\n",
       "medical_info_b3_4      0\n",
       "medical_info_b3_5      0\n",
       "medical_info_b3_6      0\n",
       "medical_info_b3_7      0\n",
       "medical_info_b3_8      0\n",
       "medical_info_b3_9      0\n",
       "medical_info_b3_10     0\n",
       "medical_info_b3_11     0\n",
       "medical_info_b3_12     0\n",
       "medical_info_b3_13     0\n",
       "medical_info_b3_14     0\n",
       "medical_info_b3_15     0\n",
       "medical_info_b3_16     0\n",
       "medical_info_c1        0\n",
       "medical_info_c2        0\n",
       "medical_keyword_1      0\n",
       "medical_keyword_2      0\n",
       "medical_keyword_3      0\n",
       "medical_keyword_4      0\n",
       "medical_keyword_5      0\n",
       "medical_keyword_6      0\n",
       "medical_keyword_7      0\n",
       "medical_keyword_8      0\n",
       "medical_keyword_9      0\n",
       "medical_keyword_10     0\n",
       "year                   0\n",
       "month                  0\n",
       "day                    0\n",
       "yearmonth              0\n",
       "medical_info_c1_nan    0\n",
       "medical_info_c2_nan    0\n",
       "target                 0\n",
       "dtype: int64"
      ]
     },
     "execution_count": 3,
     "metadata": {},
     "output_type": "execute_result"
    }
   ],
   "source": [
    "train.isnull().sum()"
   ]
  },
  {
   "cell_type": "code",
   "execution_count": 4,
   "metadata": {},
   "outputs": [],
   "source": [
    "from sklearn.ensemble import RandomForestClassifier"
   ]
  },
  {
   "cell_type": "code",
   "execution_count": 6,
   "metadata": {},
   "outputs": [],
   "source": [
    "# ランダムフォレストによる特徴量の重要度によるfiltering\n",
    "clf = RandomForestClassifier(n_estimators=10, random_state=71)\n",
    "clf.fit(train_x, train_y)\n",
    "fi = clf.feature_importances_"
   ]
  },
  {
   "cell_type": "code",
   "execution_count": 7,
   "metadata": {},
   "outputs": [
    {
     "name": "stdout",
     "output_type": "stream",
     "text": [
      "['medical_info_a1' 'weight' 'age' 'medical_info_a2' 'height'] [0.12604874 0.11164059 0.07741062 0.07132529 0.05367491]\n"
     ]
    }
   ],
   "source": [
    "idx = np.argsort(fi)[::-1]\n",
    "top_cols, top_importances = train_x.columns.values[idx][:5], fi[idx][:5]\n",
    "print(top_cols, top_importances)\n"
   ]
  },
  {
   "cell_type": "code",
   "execution_count": 8,
   "metadata": {},
   "outputs": [],
   "source": [
    "#GBDTによる特徴量の抽出\n",
    "train = pd.read_csv(\"../data/3_5/train_preprocessed_onehot.csv\")\n",
    "train_x = train.drop([\"target\"], axis=1)\n",
    "train_y = train[\"target\"]"
   ]
  },
  {
   "cell_type": "code",
   "execution_count": 10,
   "metadata": {},
   "outputs": [],
   "source": [
    "import xgboost as xgb\n"
   ]
  },
  {
   "cell_type": "code",
   "execution_count": 13,
   "metadata": {},
   "outputs": [
    {
     "name": "stdout",
     "output_type": "stream",
     "text": [
      "[04:26:27] WARNING: ../src/learner.cc:576: \n",
      "Parameters: { \"silent\" } might not be used.\n",
      "\n",
      "  This could be a false alarm, with some parameters getting used by language bindings but\n",
      "  then being mistakenly passed down to XGBoost core, or some parameter actually being used\n",
      "  but getting flagged wrongly here. Please open an issue if you find any such cases.\n",
      "\n",
      "\n",
      "[04:26:27] WARNING: ../src/learner.cc:1115: Starting in XGBoost 1.3.0, the default evaluation metric used with the objective 'binary:logistic' was changed from 'error' to 'logloss'. Explicitly set eval_metric if you'd like to restore the old behavior.\n"
     ]
    }
   ],
   "source": [
    "dtrain = xgb.DMatrix(train_x, label=train_y)\n",
    "params = {'objective': 'binary:logistic', 'silent': 1, 'random_state': 71}\n",
    "num_round = 50\n",
    "model = xgb.train(params, dtrain, num_round)\n"
   ]
  },
  {
   "cell_type": "code",
   "execution_count": null,
   "metadata": {},
   "outputs": [],
   "source": []
  }
 ],
 "metadata": {
  "interpreter": {
   "hash": "d4d1e4263499bec80672ea0156c357c1ee493ec2b1c70f0acce89fc37c4a6abe"
  },
  "kernelspec": {
   "display_name": "Python 3.9.7 64-bit ('base': conda)",
   "language": "python",
   "name": "python3"
  },
  "language_info": {
   "codemirror_mode": {
    "name": "ipython",
    "version": 3
   },
   "file_extension": ".py",
   "mimetype": "text/x-python",
   "name": "python",
   "nbconvert_exporter": "python",
   "pygments_lexer": "ipython3",
   "version": "3.9.7"
  },
  "orig_nbformat": 4
 },
 "nbformat": 4,
 "nbformat_minor": 2
}
