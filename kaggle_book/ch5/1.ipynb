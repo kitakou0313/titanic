{
 "cells": [
  {
   "cell_type": "code",
   "execution_count": 2,
   "metadata": {},
   "outputs": [],
   "source": [
    "import numpy as np\n",
    "import pandas as pd"
   ]
  },
  {
   "cell_type": "code",
   "execution_count": 4,
   "metadata": {},
   "outputs": [],
   "source": [
    "train = pd.read_csv(\"../data/train_preprocessed.csv\")\n",
    "train_x = train.drop([\"target\"], axis=1)\n",
    "train_y = train[\"target\"]\n",
    "\n",
    "test_x = pd.read_csv(\"../data/test_preprocessed.csv\")"
   ]
  },
  {
   "cell_type": "code",
   "execution_count": null,
   "metadata": {},
   "outputs": [],
   "source": [
    "import lightgbm as lgb\n",
    "from sklearn.metrics import log_loss\n",
    "\n",
    "class Model(object):\n",
    "    \"\"\"\n",
    "    docstring\n",
    "    \"\"\"\n",
    "    def __init__(self, params=None):\n",
    "        \"\"\"\n",
    "        docstring\n",
    "        \"\"\"\n",
    "        self.model = None\n",
    "        if params is None:\n",
    "           self.params = {}\n",
    "        else:\n",
    "            self.params = params\n",
    "    \n",
    "    def fit(self, tr_x, tr_y, va_x, va_y):\n",
    "        params = {'objective': 'binary', 'seed': 71, 'verbose': 0, 'metrics': 'binary_logloss'}\n",
    "        num_round = 100\n",
    "        params.update(self.params)\n",
    "\n",
    "        dtrain = lgb.Dataset(tr_x, tr_y)\n",
    "        dvalid = lgb.Dataset(va_x, va_y)\n",
    "\n",
    "        self.model = lgb.train(\n",
    "            params, dtrain, num_boost_round=num_round, valid_names=[\"train\", \"valid\"], valid_sets=[dtrain, dvalid]\n",
    "        )\n",
    "\n",
    "    def perdict(self, x):\n",
    "        data = lgb.Dataset(x)\n",
    "        pred = self.model.predict(data)\n",
    "        return pred\n"
   ]
  }
 ],
 "metadata": {
  "interpreter": {
   "hash": "d4d1e4263499bec80672ea0156c357c1ee493ec2b1c70f0acce89fc37c4a6abe"
  },
  "kernelspec": {
   "display_name": "Python 3.9.7 64-bit ('base': conda)",
   "language": "python",
   "name": "python3"
  },
  "language_info": {
   "codemirror_mode": {
    "name": "ipython",
    "version": 3
   },
   "file_extension": ".py",
   "mimetype": "text/x-python",
   "name": "python",
   "nbconvert_exporter": "python",
   "pygments_lexer": "ipython3",
   "version": "3.9.7"
  },
  "orig_nbformat": 4
 },
 "nbformat": 4,
 "nbformat_minor": 2
}
