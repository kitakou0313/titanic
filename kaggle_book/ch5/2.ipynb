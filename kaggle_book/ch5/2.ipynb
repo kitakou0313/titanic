{
 "cells": [
  {
   "cell_type": "code",
   "execution_count": 11,
   "metadata": {},
   "outputs": [],
   "source": [
    "import numpy as np\n",
    "import pandas as pd"
   ]
  },
  {
   "cell_type": "code",
   "execution_count": 12,
   "metadata": {},
   "outputs": [],
   "source": [
    "\n",
    "train = pd.read_csv(\"../data/train_preprocessed.csv\")\n",
    "train_x = train.drop([\"target\"], axis=1)\n",
    "train_y = train[\"target\"]\n",
    "\n",
    "test_x = pd.read_csv(\"../data/test_preprocessed.csv\")\n",
    "test_x = test_x.dropna(how=\"any\")"
   ]
  },
  {
   "cell_type": "code",
   "execution_count": 13,
   "metadata": {},
   "outputs": [
    {
     "data": {
      "text/plain": [
       "0       0\n",
       "1       0\n",
       "2       0\n",
       "3       0\n",
       "4       0\n",
       "       ..\n",
       "9995    3\n",
       "9996    3\n",
       "9997    3\n",
       "9998    3\n",
       "9999    3\n",
       "Name: period, Length: 10000, dtype: int64"
      ]
     },
     "execution_count": 13,
     "metadata": {},
     "output_type": "execute_result"
    }
   ],
   "source": [
    "# 時系列を追加\n",
    "train_x[\"period\"] = np.arange(0, len(train_x)) // (len(train_x) // 4)\n",
    "train_x[\"period\"] = np.clip(train_x[\"period\"], 0, 3)\n",
    "test_x[\"period\"] = 4\n",
    "\n",
    "train_x[\"period\"]"
   ]
  },
  {
   "cell_type": "code",
   "execution_count": 14,
   "metadata": {},
   "outputs": [],
   "source": [
    "#時系列データでのhold-out\n",
    "#0~3がtrain, 4がテストとする\n",
    "#trainの内、0~2を学習、3をvalidatiaonとする\n",
    "is_tr = train_x['period'] < 3\n",
    "is_va = train_x['period'] == 3\n",
    "tr_x, va_x = train_x[is_tr], train_x[is_va]\n",
    "tr_y, va_y = train_y[is_tr], train_y[is_va]"
   ]
  },
  {
   "cell_type": "code",
   "execution_count": 17,
   "metadata": {},
   "outputs": [
    {
     "name": "stdout",
     "output_type": "stream",
     "text": [
      "[0]\n",
      "[0 1]\n",
      "[0 1 2]\n"
     ]
    }
   ],
   "source": [
    "# 時系列に沿ったクロスバリデーション\n",
    "# 1,2,3をvalidationにし、それより過去のデータを学習にする\n",
    "# データが十分にあるときに有効な手法\n",
    "va_period_list = [1,2,3]\n",
    "for va_period in va_period_list:\n",
    "    is_tr = train_x['period'] < va_period\n",
    "    is_va = train_x[\"period\"] == va_period\n",
    "\n",
    "    tr_x, va_x = train_x[is_tr], train_x[is_va]\n",
    "    tr_y, va_y = train_y[is_tr], train_y[is_va]\n",
    "\n",
    "    print(tr_x[\"period\"].unique())"
   ]
  },
  {
   "cell_type": "code",
   "execution_count": 21,
   "metadata": {},
   "outputs": [],
   "source": [
    "#単純に時間で分割するケース\n",
    "#0,1,2,3の内一つをvalidation, それ以外をtrainとする"
   ]
  },
  {
   "cell_type": "code",
   "execution_count": 23,
   "metadata": {},
   "outputs": [
    {
     "name": "stdout",
     "output_type": "stream",
     "text": [
      "[1 2 3]\n",
      "[0 2 3]\n",
      "[0 1 3]\n",
      "[0 1 2]\n"
     ]
    }
   ],
   "source": [
    "va_period_list = [0,1,2,3]\n",
    "for va_period in va_period_list:\n",
    "    is_tr = train_x[\"period\"] != va_period\n",
    "    is_va = train_x[\"period\"] == va_period\n",
    "\n",
    "    tr_x, va_x = train_x[is_tr], train_x[is_va]\n",
    "    tr_y, va_y = train_y[is_tr], train_y[is_va]\n",
    "\n",
    "    print(tr_x[\"period\"].unique())"
   ]
  },
  {
   "cell_type": "code",
   "execution_count": null,
   "metadata": {},
   "outputs": [],
   "source": []
  }
 ],
 "metadata": {
  "interpreter": {
   "hash": "d4d1e4263499bec80672ea0156c357c1ee493ec2b1c70f0acce89fc37c4a6abe"
  },
  "kernelspec": {
   "display_name": "Python 3.9.7 64-bit ('base': conda)",
   "language": "python",
   "name": "python3"
  },
  "language_info": {
   "codemirror_mode": {
    "name": "ipython",
    "version": 3
   },
   "file_extension": ".py",
   "mimetype": "text/x-python",
   "name": "python",
   "nbconvert_exporter": "python",
   "pygments_lexer": "ipython3",
   "version": "3.9.7"
  },
  "orig_nbformat": 4
 },
 "nbformat": 4,
 "nbformat_minor": 2
}
